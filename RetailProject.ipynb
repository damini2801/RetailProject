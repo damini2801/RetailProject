{
  "nbformat": 4,
  "nbformat_minor": 0,
  "metadata": {
    "colab": {
      "provenance": [],
      "collapsed_sections": []
    },
    "kernelspec": {
      "name": "python3",
      "display_name": "Python 3"
    },
    "language_info": {
      "name": "python"
    }
  },
  "cells": [
    {
      "cell_type": "markdown",
      "source": [
        "# Retail Analytics Project\n",
        "\n",
        "**Online Reatil Dataset-1**\n",
        "\n",
        "Group Members\n",
        "* A012 - Ashish Shetty \n",
        "* A019 - Damini Anand\n",
        "* A035 - Naman Jhawar\n",
        "* A043 - Prakshaal Jain\n",
        "* A045 - Prem Gadiya\n",
        "* A066 - Sridharshini K B \n"
      ],
      "metadata": {
        "id": "NNiVPppmsqOo"
      }
    },
    {
      "cell_type": "code",
      "execution_count": 21,
      "metadata": {
        "colab": {
          "base_uri": "https://localhost:8080/"
        },
        "id": "HhmpRAyHO8Qc",
        "outputId": "1530519d-d20e-4337-e9d4-29d0e7f107d4"
      },
      "outputs": [
        {
          "output_type": "stream",
          "name": "stdout",
          "text": [
            "Looking in indexes: https://pypi.org/simple, https://us-python.pkg.dev/colab-wheels/public/simple/\n",
            "Requirement already satisfied: pyspark in /usr/local/lib/python3.7/dist-packages (3.3.1)\n",
            "Requirement already satisfied: py4j==0.10.9.5 in /usr/local/lib/python3.7/dist-packages (from pyspark) (0.10.9.5)\n"
          ]
        }
      ],
      "source": [
        "#Installation of pyspark\n",
        "\n",
        "!pip install pyspark"
      ]
    },
    {
      "cell_type": "code",
      "source": [
        "#Reading the dataset from a local runtime and creating a spark session\n",
        "\n",
        "from pyspark.sql.session import SparkSession\n",
        "session=SparkSession.builder.appName(\"sql2\").master(\"local\").getOrCreate()\n",
        "data=session.read.csv(\"OnlineRetail_Cleaned.csv\",header=True, inferSchema=True)"
      ],
      "metadata": {
        "id": "5TZQ26ZPTPhi"
      },
      "execution_count": 22,
      "outputs": []
    },
    {
      "cell_type": "code",
      "source": [
        "#  To know the number of rows and columns in the data\n",
        "\n",
        "print(data.count(),len(data.columns))"
      ],
      "metadata": {
        "colab": {
          "base_uri": "https://localhost:8080/"
        },
        "id": "SwzXNJZxS8cq",
        "outputId": "a4a85f0a-7e5d-42ee-d9f1-42a058575858"
      },
      "execution_count": 23,
      "outputs": [
        {
          "output_type": "stream",
          "name": "stdout",
          "text": [
            "527891 12\n"
          ]
        }
      ]
    },
    {
      "cell_type": "code",
      "source": [
        "print(data.show(5))"
      ],
      "metadata": {
        "colab": {
          "base_uri": "https://localhost:8080/"
        },
        "id": "UpFhyNH-XzjP",
        "outputId": "3ab03246-d38d-4084-9d70-070650e96d69"
      },
      "execution_count": 24,
      "outputs": [
        {
          "output_type": "stream",
          "name": "stdout",
          "text": [
            "+---------+---------+--------------------+--------+-------------------+----+----------+-------------------+---------+----------+--------------+-----------+\n",
            "|InvoiceNo|StockCode|         Description|Quantity|        InvoiceDate|Year|      Date|               Time|UnitPrice|CustomerID|       Country|IsCancelled|\n",
            "+---------+---------+--------------------+--------+-------------------+----+----------+-------------------+---------+----------+--------------+-----------+\n",
            "|   536365|   85123A|WHITE HANGING HEA...|       6|2010-12-01 08:26:00|2010|01-12-2010|2022-11-07 08:26:00|     2.55|     17850|United Kingdom|          0|\n",
            "|   536365|    71053| WHITE METAL LANTERN|       6|2010-12-01 08:26:00|2010|01-12-2010|2022-11-07 08:26:00|     3.39|     17850|United Kingdom|          0|\n",
            "|   536365|   84406B|CREAM CUPID HEART...|       8|2010-12-01 08:26:00|2010|01-12-2010|2022-11-07 08:26:00|     2.75|     17850|United Kingdom|          0|\n",
            "|   536365|   84029G|KNITTED UNION FLA...|       6|2010-12-01 08:26:00|2010|01-12-2010|2022-11-07 08:26:00|     3.39|     17850|United Kingdom|          0|\n",
            "|   536365|   84029E|RED WOOLLY HOTTIE...|       6|2010-12-01 08:26:00|2010|01-12-2010|2022-11-07 08:26:00|     3.39|     17850|United Kingdom|          0|\n",
            "+---------+---------+--------------------+--------+-------------------+----+----------+-------------------+---------+----------+--------------+-----------+\n",
            "only showing top 5 rows\n",
            "\n",
            "None\n"
          ]
        }
      ]
    },
    {
      "cell_type": "code",
      "source": [
        "# To get the data with respect to column headings\n",
        "\n",
        "data.columns"
      ],
      "metadata": {
        "colab": {
          "base_uri": "https://localhost:8080/"
        },
        "id": "o3fQOINxjQtp",
        "outputId": "8fd7adef-bdca-461f-829c-73ff551300c0"
      },
      "execution_count": 25,
      "outputs": [
        {
          "output_type": "execute_result",
          "data": {
            "text/plain": [
              "['InvoiceNo',\n",
              " 'StockCode',\n",
              " 'Description',\n",
              " 'Quantity',\n",
              " 'InvoiceDate',\n",
              " 'Year',\n",
              " 'Date',\n",
              " 'Time',\n",
              " 'UnitPrice',\n",
              " 'CustomerID',\n",
              " 'Country',\n",
              " 'IsCancelled']"
            ]
          },
          "metadata": {},
          "execution_count": 25
        }
      ]
    },
    {
      "cell_type": "code",
      "source": [
        "# To know the schema of the variables in the dataset\n",
        "\n",
        "data.printSchema()"
      ],
      "metadata": {
        "colab": {
          "base_uri": "https://localhost:8080/"
        },
        "id": "k7zF800wTEsi",
        "outputId": "41d2ef03-8e49-47d3-8484-71d520eb364b"
      },
      "execution_count": 26,
      "outputs": [
        {
          "output_type": "stream",
          "name": "stdout",
          "text": [
            "root\n",
            " |-- InvoiceNo: string (nullable = true)\n",
            " |-- StockCode: string (nullable = true)\n",
            " |-- Description: string (nullable = true)\n",
            " |-- Quantity: integer (nullable = true)\n",
            " |-- InvoiceDate: timestamp (nullable = true)\n",
            " |-- Year: integer (nullable = true)\n",
            " |-- Date: string (nullable = true)\n",
            " |-- Time: timestamp (nullable = true)\n",
            " |-- UnitPrice: double (nullable = true)\n",
            " |-- CustomerID: integer (nullable = true)\n",
            " |-- Country: string (nullable = true)\n",
            " |-- IsCancelled: integer (nullable = true)\n",
            "\n"
          ]
        }
      ]
    },
    {
      "cell_type": "markdown",
      "source": [
        "**DATA ENGINEERING**"
      ],
      "metadata": {
        "id": "MElnYqWezp9Y"
      }
    },
    {
      "cell_type": "code",
      "source": [
        "#We found that age is structures as a string so using col we cast it to integer\n",
        "\n",
        "from pyspark.sql.functions import col\n",
        "#data=data.withColumn('InvoiceDate',col('InvoiceDate').cast('String'))\n",
        "\n",
        "#To know the data types after casting\n",
        "data.dtypes"
      ],
      "metadata": {
        "colab": {
          "base_uri": "https://localhost:8080/"
        },
        "id": "opUdNb-CXTE4",
        "outputId": "b9a97e98-61bb-4d45-9e0f-bd018afc378a"
      },
      "execution_count": 27,
      "outputs": [
        {
          "output_type": "execute_result",
          "data": {
            "text/plain": [
              "[('InvoiceNo', 'string'),\n",
              " ('StockCode', 'string'),\n",
              " ('Description', 'string'),\n",
              " ('Quantity', 'int'),\n",
              " ('InvoiceDate', 'timestamp'),\n",
              " ('Year', 'int'),\n",
              " ('Date', 'string'),\n",
              " ('Time', 'timestamp'),\n",
              " ('UnitPrice', 'double'),\n",
              " ('CustomerID', 'int'),\n",
              " ('Country', 'string'),\n",
              " ('IsCancelled', 'int')]"
            ]
          },
          "metadata": {},
          "execution_count": 27
        }
      ]
    },
    {
      "cell_type": "code",
      "source": [
        "# Dropping InvoiceData column\n",
        "data=data.drop('InvoiceDate')"
      ],
      "metadata": {
        "id": "g46IXq7_iAfH"
      },
      "execution_count": 28,
      "outputs": []
    },
    {
      "cell_type": "code",
      "source": [
        "print(data.show())"
      ],
      "metadata": {
        "colab": {
          "base_uri": "https://localhost:8080/"
        },
        "id": "lg1Ei-XOXgfx",
        "outputId": "e308bf2c-9cc6-4eda-e001-f6cecf592cf8"
      },
      "execution_count": 29,
      "outputs": [
        {
          "output_type": "stream",
          "name": "stdout",
          "text": [
            "+---------+---------+--------------------+--------+----+----------+-------------------+---------+----------+--------------+-----------+\n",
            "|InvoiceNo|StockCode|         Description|Quantity|Year|      Date|               Time|UnitPrice|CustomerID|       Country|IsCancelled|\n",
            "+---------+---------+--------------------+--------+----+----------+-------------------+---------+----------+--------------+-----------+\n",
            "|   536365|   85123A|WHITE HANGING HEA...|       6|2010|01-12-2010|2022-11-07 08:26:00|     2.55|     17850|United Kingdom|          0|\n",
            "|   536365|    71053| WHITE METAL LANTERN|       6|2010|01-12-2010|2022-11-07 08:26:00|     3.39|     17850|United Kingdom|          0|\n",
            "|   536365|   84406B|CREAM CUPID HEART...|       8|2010|01-12-2010|2022-11-07 08:26:00|     2.75|     17850|United Kingdom|          0|\n",
            "|   536365|   84029G|KNITTED UNION FLA...|       6|2010|01-12-2010|2022-11-07 08:26:00|     3.39|     17850|United Kingdom|          0|\n",
            "|   536365|   84029E|RED WOOLLY HOTTIE...|       6|2010|01-12-2010|2022-11-07 08:26:00|     3.39|     17850|United Kingdom|          0|\n",
            "|   536365|    22752|SET 7 BABUSHKA NE...|       2|2010|01-12-2010|2022-11-07 08:26:00|     7.65|     17850|United Kingdom|          0|\n",
            "|   536365|    21730|GLASS STAR FROSTE...|       6|2010|01-12-2010|2022-11-07 08:26:00|     4.25|     17850|United Kingdom|          0|\n",
            "|   536366|    22633|HAND WARMER UNION...|       6|2010|01-12-2010|2022-11-07 08:28:00|     1.85|     17850|United Kingdom|          0|\n",
            "|   536366|    22632|HAND WARMER RED P...|       6|2010|01-12-2010|2022-11-07 08:28:00|     1.85|     17850|United Kingdom|          0|\n",
            "|   536367|    84879|ASSORTED COLOUR B...|      32|2010|01-12-2010|2022-11-07 08:34:00|     1.69|     13047|United Kingdom|          0|\n",
            "|   536367|    22745|POPPY'S PLAYHOUSE...|       6|2010|01-12-2010|2022-11-07 08:34:00|      2.1|     13047|United Kingdom|          0|\n",
            "|   536367|    22748|POPPY'S PLAYHOUSE...|       6|2010|01-12-2010|2022-11-07 08:34:00|      2.1|     13047|United Kingdom|          0|\n",
            "|   536367|    22749|FELTCRAFT PRINCES...|       8|2010|01-12-2010|2022-11-07 08:34:00|     3.75|     13047|United Kingdom|          0|\n",
            "|   536367|    22310|IVORY KNITTED MUG...|       6|2010|01-12-2010|2022-11-07 08:34:00|     1.65|     13047|United Kingdom|          0|\n",
            "|   536367|    84969|BOX OF 6 ASSORTED...|       6|2010|01-12-2010|2022-11-07 08:34:00|     4.25|     13047|United Kingdom|          0|\n",
            "|   536367|    22623|BOX OF VINTAGE JI...|       3|2010|01-12-2010|2022-11-07 08:34:00|     4.95|     13047|United Kingdom|          0|\n",
            "|   536367|    22622|BOX OF VINTAGE AL...|       2|2010|01-12-2010|2022-11-07 08:34:00|     9.95|     13047|United Kingdom|          0|\n",
            "|   536367|    21754|HOME BUILDING BLO...|       3|2010|01-12-2010|2022-11-07 08:34:00|     5.95|     13047|United Kingdom|          0|\n",
            "|   536367|    21755|LOVE BUILDING BLO...|       3|2010|01-12-2010|2022-11-07 08:34:00|     5.95|     13047|United Kingdom|          0|\n",
            "|   536367|    21777|RECIPE BOX WITH M...|       4|2010|01-12-2010|2022-11-07 08:34:00|     7.95|     13047|United Kingdom|          0|\n",
            "+---------+---------+--------------------+--------+----+----------+-------------------+---------+----------+--------------+-----------+\n",
            "only showing top 20 rows\n",
            "\n",
            "None\n"
          ]
        }
      ]
    },
    {
      "cell_type": "code",
      "source": [
        "print(data.describe('Quantity','UnitPrice').show())"
      ],
      "metadata": {
        "colab": {
          "base_uri": "https://localhost:8080/"
        },
        "id": "Z5NvgI4p4q2B",
        "outputId": "c0a6663d-5fc1-48ad-ca81-81de84603244"
      },
      "execution_count": 30,
      "outputs": [
        {
          "output_type": "stream",
          "name": "stdout",
          "text": [
            "+-------+------------------+-----------------+\n",
            "|summary|          Quantity|        UnitPrice|\n",
            "+-------+------------------+-----------------+\n",
            "|  count|            527891|           527891|\n",
            "|   mean| 9.691603001377178|4.646768336639712|\n",
            "| stddev|154.19111119779552|97.94411231274547|\n",
            "|    min|            -74215|        -11062.06|\n",
            "|    max|             74215|          38970.0|\n",
            "+-------+------------------+-----------------+\n",
            "\n",
            "None\n"
          ]
        }
      ]
    },
    {
      "cell_type": "code",
      "source": [
        "# The revenue/cancellation cost earned per traansaction by the online store (Unit price X Qty)\n",
        "\n",
        "data=data.withColumn(\"InvoiceAmt\", data['UnitPrice']*data['Quantity'])\n",
        "print(len(data.columns))\n",
        "print(data.show(2))"
      ],
      "metadata": {
        "colab": {
          "base_uri": "https://localhost:8080/"
        },
        "id": "7QtdooM37gAG",
        "outputId": "ce929d40-89d1-43e2-dd1c-abfb715e5edf"
      },
      "execution_count": 31,
      "outputs": [
        {
          "output_type": "stream",
          "name": "stdout",
          "text": [
            "12\n",
            "+---------+---------+--------------------+--------+----+----------+-------------------+---------+----------+--------------+-----------+------------------+\n",
            "|InvoiceNo|StockCode|         Description|Quantity|Year|      Date|               Time|UnitPrice|CustomerID|       Country|IsCancelled|        InvoiceAmt|\n",
            "+---------+---------+--------------------+--------+----+----------+-------------------+---------+----------+--------------+-----------+------------------+\n",
            "|   536365|   85123A|WHITE HANGING HEA...|       6|2010|01-12-2010|2022-11-07 08:26:00|     2.55|     17850|United Kingdom|          0|15.299999999999999|\n",
            "|   536365|    71053| WHITE METAL LANTERN|       6|2010|01-12-2010|2022-11-07 08:26:00|     3.39|     17850|United Kingdom|          0|             20.34|\n",
            "+---------+---------+--------------------+--------+----+----------+-------------------+---------+----------+--------------+-----------+------------------+\n",
            "only showing top 2 rows\n",
            "\n",
            "None\n"
          ]
        }
      ]
    },
    {
      "cell_type": "code",
      "source": [
        "# Drop InvoiceDate Column\n",
        "data=data.drop('InvoiceDate')\n",
        "print(data.show(2))"
      ],
      "metadata": {
        "colab": {
          "base_uri": "https://localhost:8080/"
        },
        "id": "SaappQfhOWJ7",
        "outputId": "bafcb4db-419f-4571-846f-f90fc46e4a7a"
      },
      "execution_count": 32,
      "outputs": [
        {
          "output_type": "stream",
          "name": "stdout",
          "text": [
            "+---------+---------+--------------------+--------+----+----------+-------------------+---------+----------+--------------+-----------+------------------+\n",
            "|InvoiceNo|StockCode|         Description|Quantity|Year|      Date|               Time|UnitPrice|CustomerID|       Country|IsCancelled|        InvoiceAmt|\n",
            "+---------+---------+--------------------+--------+----+----------+-------------------+---------+----------+--------------+-----------+------------------+\n",
            "|   536365|   85123A|WHITE HANGING HEA...|       6|2010|01-12-2010|2022-11-07 08:26:00|     2.55|     17850|United Kingdom|          0|15.299999999999999|\n",
            "|   536365|    71053| WHITE METAL LANTERN|       6|2010|01-12-2010|2022-11-07 08:26:00|     3.39|     17850|United Kingdom|          0|             20.34|\n",
            "+---------+---------+--------------------+--------+----+----------+-------------------+---------+----------+--------------+-----------+------------------+\n",
            "only showing top 2 rows\n",
            "\n",
            "None\n"
          ]
        }
      ]
    },
    {
      "cell_type": "markdown",
      "source": [
        "## **ANALYSIS**"
      ],
      "metadata": {
        "id": "d4Nm3EsDGVPT"
      }
    },
    {
      "cell_type": "code",
      "source": [
        "from pyspark.sql.functions import udf\n",
        "from pyspark.sql.types import *"
      ],
      "metadata": {
        "id": "SYEkOEKs9lN3"
      },
      "execution_count": 33,
      "outputs": []
    },
    {
      "cell_type": "code",
      "source": [
        "#data.coalesce(1).write.format('csv').option('header','true').save(\"data.csv\") "
      ],
      "metadata": {
        "id": "pNEMFELsY_Ix"
      },
      "execution_count": 34,
      "outputs": []
    },
    {
      "cell_type": "code",
      "source": [
        "# SQL\n",
        "data.createOrReplaceTempView(\"tb\")"
      ],
      "metadata": {
        "id": "zF08OeJq6TJC"
      },
      "execution_count": 35,
      "outputs": []
    },
    {
      "cell_type": "markdown",
      "source": [
        "### Year-wise Analysis"
      ],
      "metadata": {
        "id": "PxANQncXZ8yo"
      }
    },
    {
      "cell_type": "markdown",
      "source": [
        "**1.Maximum cancellations with respect to quantity of goods is the year 2011 when compared to 2010**"
      ],
      "metadata": {
        "id": "22prBrl0ZNr7"
      }
    },
    {
      "cell_type": "code",
      "source": [
        "print((session.sql(\"Select  Sum(Quantity) TotalQuantity, Year from tb where IsCancelled==1 group by Year\").show()))"
      ],
      "metadata": {
        "colab": {
          "base_uri": "https://localhost:8080/"
        },
        "id": "uXUhgI3vSVyS",
        "outputId": "6e005f15-7b5c-426b-96fb-10329483af03"
      },
      "execution_count": 36,
      "outputs": [
        {
          "output_type": "stream",
          "name": "stdout",
          "text": [
            "+-------------+----+\n",
            "|TotalQuantity|Year|\n",
            "+-------------+----+\n",
            "|       -16010|2010|\n",
            "|      -177876|2011|\n",
            "+-------------+----+\n",
            "\n",
            "None\n"
          ]
        }
      ]
    },
    {
      "cell_type": "markdown",
      "source": [
        "**2. The top 5 customers (CustomerID) who have cancelled their orders**\n",
        "\n",
        "- It is observed that most of the products cancelled are stationary items\n",
        "- The retailer can idntify the reason for these products being cancelled"
      ],
      "metadata": {
        "id": "M5WYO6yab70b"
      }
    },
    {
      "cell_type": "code",
      "source": [
        "print((session.sql(\"Select  distinct CustomerID, Sum(Quantity) TotalQuantity, Description from tb where IsCancelled==1 and Year=2011 group by CustomerID, Description order by TotalQuantity Asc\").show(5)))"
      ],
      "metadata": {
        "colab": {
          "base_uri": "https://localhost:8080/"
        },
        "id": "Sfu52aWpazY1",
        "outputId": "0dfab4d2-8145-4d11-a6c9-5ba5c3ef437c"
      },
      "execution_count": 37,
      "outputs": [
        {
          "output_type": "stream",
          "name": "stdout",
          "text": [
            "+----------+-------------+--------------------+\n",
            "|CustomerID|TotalQuantity|         Description|\n",
            "+----------+-------------+--------------------+\n",
            "|     12346|       -74215|MEDIUM CERAMIC TO...|\n",
            "|     15749|        -3114|FAIRY CAKE FLANNE...|\n",
            "|     15749|        -2000|GIN + TONIC DIET ...|\n",
            "|     15749|        -1930|WHITE HANGING HEA...|\n",
            "|     16938|        -1515|   HERB MARKER BASIL|\n",
            "+----------+-------------+--------------------+\n",
            "only showing top 5 rows\n",
            "\n",
            "None\n"
          ]
        }
      ]
    },
    {
      "cell_type": "markdown",
      "source": [
        "### Country-Wise Analysis"
      ],
      "metadata": {
        "id": "AfVTBByieeB5"
      }
    },
    {
      "cell_type": "markdown",
      "source": [
        "**1. Cancellations greater than 2000 in united Kingdom**"
      ],
      "metadata": {
        "id": "GzTnJIeTesmk"
      }
    },
    {
      "cell_type": "code",
      "source": [
        "print((session.sql(\"Select distinct CustomerID, Description, sum(InvoiceAmt), Country from tb where Country=='United Kingdom' and InvoiceAmt<-2000 group by CustomerID, Country, Description\").show()))"
      ],
      "metadata": {
        "colab": {
          "base_uri": "https://localhost:8080/"
        },
        "id": "VqOCGzMqa1A5",
        "outputId": "45cdd6aa-1d01-4718-8ea6-5b2c7963ec6b"
      },
      "execution_count": 38,
      "outputs": [
        {
          "output_type": "stream",
          "name": "stdout",
          "text": [
            "+----------+--------------------+-------------------+--------------+\n",
            "|CustomerID|         Description|    sum(InvoiceAmt)|       Country|\n",
            "+----------+--------------------+-------------------+--------------+\n",
            "|     17448|              Manual|           -4287.63|United Kingdom|\n",
            "|     16029|              Manual|            -6930.0|United Kingdom|\n",
            "|     15749|WHITE HANGING HEA...|            -4921.5|United Kingdom|\n",
            "|     12346|MEDIUM CERAMIC TO...|           -77183.6|United Kingdom|\n",
            "|      null|          AMAZON FEE|-235060.83000000005|United Kingdom|\n",
            "|      null|     Adjust bad debt|          -22124.12|United Kingdom|\n",
            "|     15749|TEA TIME PARTY BU...|-3314.9999999999995|United Kingdom|\n",
            "|     15098|              Manual|           -38970.0|United Kingdom|\n",
            "|     17450|PANTRY CHOPPING B...|-3825.3599999999997|United Kingdom|\n",
            "|     12931|IVORY DINER WALL ...|-2432.7000000000003|United Kingdom|\n",
            "|     16029|             POSTAGE|           -8142.75|United Kingdom|\n",
            "|     15749|  DOORMAT FAIRY CAKE|            -4522.5|United Kingdom|\n",
            "|     15749|GIN + TONIC DIET ...|            -3700.0|United Kingdom|\n",
            "|     18102|              Manual|            -3060.6|United Kingdom|\n",
            "|     15749|FAIRY CAKE FLANNE...| -6539.400000000001|United Kingdom|\n",
            "|     15502|              Manual|           -3155.95|United Kingdom|\n",
            "+----------+--------------------+-------------------+--------------+\n",
            "\n",
            "None\n"
          ]
        }
      ]
    },
    {
      "cell_type": "markdown",
      "source": [
        "**2. Top 5 countries with maximum invoice amount inclusive of cancellations**"
      ],
      "metadata": {
        "id": "ZDcScpObe0am"
      }
    },
    {
      "cell_type": "code",
      "source": [
        "print((session.sql(\"Select distinct Country, round(sum(InvoiceAmt),2) InvoiceAmt from tb group by Country order by InvoiceAmt Desc\").show(5)))"
      ],
      "metadata": {
        "colab": {
          "base_uri": "https://localhost:8080/"
        },
        "id": "WSznt99Tfjec",
        "outputId": "c84fda45-d169-4514-bd2d-168b90fc2297"
      },
      "execution_count": 39,
      "outputs": [
        {
          "output_type": "stream",
          "name": "stdout",
          "text": [
            "+--------------+----------+\n",
            "|       Country|InvoiceAmt|\n",
            "+--------------+----------+\n",
            "|United Kingdom| 8052947.2|\n",
            "|   Netherlands| 272933.52|\n",
            "|          EIRE| 261909.24|\n",
            "|       Germany| 216233.51|\n",
            "|        France| 196498.11|\n",
            "+--------------+----------+\n",
            "only showing top 5 rows\n",
            "\n",
            "None\n"
          ]
        }
      ]
    },
    {
      "cell_type": "markdown",
      "source": [
        "**3. Top 5 countries with maximum quantities of goods purchased inclusive of cancellations**"
      ],
      "metadata": {
        "id": "1sSXwfB1e5A5"
      }
    },
    {
      "cell_type": "code",
      "source": [
        "print((session.sql(\"Select distinct Country, sum(Quantity) Quantity from tb group by Country order by Quantity Desc\").show(5)))"
      ],
      "metadata": {
        "colab": {
          "base_uri": "https://localhost:8080/"
        },
        "id": "SpjEdPgmgRU6",
        "outputId": "d03f68fa-c7c1-4f27-a9c3-3564b0aa0647"
      },
      "execution_count": 40,
      "outputs": [
        {
          "output_type": "stream",
          "name": "stdout",
          "text": [
            "+--------------+--------+\n",
            "|       Country|Quantity|\n",
            "+--------------+--------+\n",
            "|United Kingdom| 4218780|\n",
            "|   Netherlands|  192170|\n",
            "|          EIRE|  141689|\n",
            "|       Germany|  114440|\n",
            "|        France|  110066|\n",
            "+--------------+--------+\n",
            "only showing top 5 rows\n",
            "\n",
            "None\n"
          ]
        }
      ]
    },
    {
      "cell_type": "markdown",
      "source": [
        "****4. Top 5 countries with maximum unit price of goods purchased inclusive of cancellations****"
      ],
      "metadata": {
        "id": "SaQBpZ0XDe17"
      }
    },
    {
      "cell_type": "code",
      "source": [
        "print((session.sql(\"Select distinct Country, round(avg(UnitPrice),2) UnitPrice from tb group by Country order by UnitPrice Desc\").show(20)))"
      ],
      "metadata": {
        "colab": {
          "base_uri": "https://localhost:8080/"
        },
        "id": "1B6CemNTgw6Z",
        "outputId": "02a86924-1fcd-44fc-cfc5-b2a029d74cd4"
      },
      "execution_count": 41,
      "outputs": [
        {
          "output_type": "stream",
          "name": "stdout",
          "text": [
            "+------------------+---------+\n",
            "|           Country|UnitPrice|\n",
            "+------------------+---------+\n",
            "|         Singapore|   109.65|\n",
            "|         Hong Kong|    43.04|\n",
            "|          Portugal|     8.66|\n",
            "|            Cyprus|     6.35|\n",
            "|            Norway|     6.25|\n",
            "|            Canada|     6.03|\n",
            "|              EIRE|     5.94|\n",
            "|           Finland|     5.45|\n",
            "|           Lebanon|     5.39|\n",
            "|             Malta|     5.24|\n",
            "|             Spain|     5.06|\n",
            "|            France|     5.04|\n",
            "|   Channel Islands|     4.94|\n",
            "|            Greece|     4.89|\n",
            "|             Italy|     4.83|\n",
            "|European Community|     4.82|\n",
            "|    United Kingdom|     4.57|\n",
            "|           Bahrain|     4.56|\n",
            "|            Brazil|     4.46|\n",
            "|               RSA|     4.28|\n",
            "+------------------+---------+\n",
            "only showing top 20 rows\n",
            "\n",
            "None\n"
          ]
        }
      ]
    },
    {
      "cell_type": "markdown",
      "source": [
        "\n",
        "**France is one of the countries that has high unit price and orders (quantity)but still manages to be in the top 5 countries. Therefore, reducing its unit price slightly could lead to more orders and higher revenues**"
      ],
      "metadata": {
        "id": "KfMv-jstp9Vd"
      }
    },
    {
      "cell_type": "markdown",
      "source": [
        "**3. Average Unit price, Quantity and Invoice**"
      ],
      "metadata": {
        "id": "OaQ_fB5FEABP"
      }
    },
    {
      "cell_type": "code",
      "source": [
        "print((session.sql(\"Select distinct Country, round(Avg(UnitPrice),2) UnitPrice, round(avg(Quantity)) Quantity, round(Avg(InvoiceAmt),2) InvoiceAmt from tb group by Country order by InvoiceAmt Desc\").show()))"
      ],
      "metadata": {
        "colab": {
          "base_uri": "https://localhost:8080/"
        },
        "id": "ua8weQAadIeh",
        "outputId": "65a2a2c1-9d98-4872-c14f-50d202f6b084"
      },
      "execution_count": 42,
      "outputs": [
        {
          "output_type": "stream",
          "name": "stdout",
          "text": [
            "+--------------------+---------+--------+----------+\n",
            "|             Country|UnitPrice|Quantity|InvoiceAmt|\n",
            "+--------------------+---------+--------+----------+\n",
            "|         Netherlands|     2.75|    84.0|    119.45|\n",
            "|           Australia|     3.22|    66.0|    108.91|\n",
            "|               Japan|     2.28|    70.0|     98.72|\n",
            "|              Sweden|     3.91|    77.0|     79.36|\n",
            "|             Denmark|     3.26|    21.0|     48.25|\n",
            "|           Lithuania|     2.84|    19.0|     47.46|\n",
            "|           Singapore|   109.65|    23.0|     39.83|\n",
            "|             Lebanon|     5.39|     9.0|     37.64|\n",
            "|              Brazil|     4.46|    11.0|     35.74|\n",
            "|           Hong Kong|    43.04|    17.0|     34.89|\n",
            "|                EIRE|     5.94|    17.0|     32.29|\n",
            "|              Greece|     4.89|    11.0|     32.26|\n",
            "|             Finland|     5.45|    15.0|     32.12|\n",
            "|              Norway|     6.25|    17.0|     31.89|\n",
            "|             Bahrain|     4.56|    14.0|     28.86|\n",
            "|         Switzerland|     3.41|    15.0|     28.27|\n",
            "|United Arab Emirates|     3.38|    14.0|     27.97|\n",
            "|              Israel|     3.65|    15.0|     26.88|\n",
            "|     Channel Islands|     4.94|    13.0|     26.56|\n",
            "|              Canada|     6.03|    18.0|     24.28|\n",
            "+--------------------+---------+--------+----------+\n",
            "only showing top 20 rows\n",
            "\n",
            "None\n"
          ]
        }
      ]
    },
    {
      "cell_type": "markdown",
      "source": [
        "**United Kingdom and Netherlands are the top two countires with respect to quantities sold and total invoice amount collected. United Kingdom whole sellers seem to perfrom better but on an average the Netherlands perfroms better. Though Netherlands has a comparetively lower unit price and quantity sold, it overal average invoivce amount is at the top.**\n",
        "\n",
        "**Netherlands has fewer large orders whereas UK has multiple small orders. Multiple small orders could be a problem with respect to cost of transporation.**"
      ],
      "metadata": {
        "id": "0uy-zmdHhAYW"
      }
    },
    {
      "cell_type": "markdown",
      "source": [
        "**6. Top 10 customers with maximum quantities of goods purchased inclusive of cancellations**"
      ],
      "metadata": {
        "id": "ezGBgW1XfWY_"
      }
    },
    {
      "cell_type": "code",
      "source": [
        "print((session.sql(\"Select distinct CustomerID, sum(Quantity) Quantity, Country from tb group by CustomerID, Country order by Quantity Desc\").show(10)))"
      ],
      "metadata": {
        "colab": {
          "base_uri": "https://localhost:8080/"
        },
        "id": "XXX-0jFhmF40",
        "outputId": "095769fa-f697-45f0-cd4e-ab8ff520dfb4"
      },
      "execution_count": 43,
      "outputs": [
        {
          "output_type": "stream",
          "name": "stdout",
          "text": [
            "+----------+--------+--------------+\n",
            "|CustomerID|Quantity|       Country|\n",
            "+----------+--------+--------------+\n",
            "|      null|  260360|United Kingdom|\n",
            "|     14646|  188761|   Netherlands|\n",
            "|     12415|   77242|     Australia|\n",
            "|     14911|   76349|          EIRE|\n",
            "|     17450|   69009|United Kingdom|\n",
            "|     17511|   63012|United Kingdom|\n",
            "|     13694|   61899|United Kingdom|\n",
            "|     18102|   61424|United Kingdom|\n",
            "|     14298|   58021|United Kingdom|\n",
            "|     14156|   56908|          EIRE|\n",
            "+----------+--------+--------------+\n",
            "only showing top 10 rows\n",
            "\n",
            "None\n"
          ]
        }
      ]
    },
    {
      "cell_type": "markdown",
      "source": [
        "**7. The top 10 customers have been identified above who make maximum orders in terms of quantity purchased**"
      ],
      "metadata": {
        "id": "VFHSFYCsmzZq"
      }
    },
    {
      "cell_type": "code",
      "source": [
        "print((session.sql(\"Select distinct CustomerID, round(sum(InvoiceAmt),2) InvoiceAmt, Country from tb group by CustomerID, Country order by InvoiceAmt Desc\").show(10)))"
      ],
      "metadata": {
        "colab": {
          "base_uri": "https://localhost:8080/"
        },
        "id": "8p5DBTPEmya0",
        "outputId": "6e42d102-28fd-4da1-c255-a120ec67abb7"
      },
      "execution_count": 44,
      "outputs": [
        {
          "output_type": "stream",
          "name": "stdout",
          "text": [
            "+----------+----------+--------------+\n",
            "|CustomerID|InvoiceAmt|       Country|\n",
            "+----------+----------+--------------+\n",
            "|      null|1371401.51|United Kingdom|\n",
            "|     14646|  267761.0|   Netherlands|\n",
            "|     18102| 244952.95|United Kingdom|\n",
            "|     17450| 187322.17|United Kingdom|\n",
            "|     14911| 131374.59|          EIRE|\n",
            "|     12415| 123725.45|     Australia|\n",
            "|     14156| 113214.59|          EIRE|\n",
            "|     17511|  88125.38|United Kingdom|\n",
            "|     16684|  65892.08|United Kingdom|\n",
            "|     13694|  62690.54|United Kingdom|\n",
            "+----------+----------+--------------+\n",
            "only showing top 10 rows\n",
            "\n",
            "None\n"
          ]
        }
      ]
    },
    {
      "cell_type": "markdown",
      "source": [
        "**8. The top 10 customers have been identified above who make maximum invoice Amount thus leading to greater revenue.**"
      ],
      "metadata": {
        "id": "zSy-xToznbjl"
      }
    },
    {
      "cell_type": "code",
      "source": [
        "# Top 10 csutomers contributing to the revenue\n",
        "\n",
        "print((session.sql(\"Select distinct CustomerID, round(sum(InvoiceAmt),2) InvoiceAmt, sum(Quantity) Qunatity, Country from tb group by CustomerID, Country order by InvoiceAmt Desc\").show(10)))"
      ],
      "metadata": {
        "colab": {
          "base_uri": "https://localhost:8080/"
        },
        "id": "lJleD7Fun9qi",
        "outputId": "f1b026c2-c4eb-41a3-d014-2ff6e81aa4a1"
      },
      "execution_count": 45,
      "outputs": [
        {
          "output_type": "stream",
          "name": "stdout",
          "text": [
            "+----------+----------+--------+--------------+\n",
            "|CustomerID|InvoiceAmt|Qunatity|       Country|\n",
            "+----------+----------+--------+--------------+\n",
            "|      null|1371401.51|  260360|United Kingdom|\n",
            "|     14646|  267761.0|  188761|   Netherlands|\n",
            "|     18102| 244952.95|   61424|United Kingdom|\n",
            "|     17450| 187322.17|   69009|United Kingdom|\n",
            "|     14911| 131374.59|   76349|          EIRE|\n",
            "|     12415| 123725.45|   77242|     Australia|\n",
            "|     14156| 113214.59|   56908|          EIRE|\n",
            "|     17511|  88125.38|   63012|United Kingdom|\n",
            "|     16684|  65892.08|   49390|United Kingdom|\n",
            "|     13694|  62690.54|   61899|United Kingdom|\n",
            "+----------+----------+--------+--------------+\n",
            "only showing top 10 rows\n",
            "\n",
            "None\n"
          ]
        }
      ]
    },
    {
      "cell_type": "markdown",
      "source": [
        "**Customers making maximum orders and contributing maximum invoice amount are the retailers premium customers. Retailers can target loyalty programs to these customers in the form of discounts.**"
      ],
      "metadata": {
        "id": "yZArAz0pojKs"
      }
    },
    {
      "cell_type": "markdown",
      "source": [
        "**9. The maximum price of products that are less than average price and greater than the avg price**\n",
        "\n",
        "- United Kingdom is one of the countries which has priced most of its products geater than the avg unit price of products sold by the retailer online.\n",
        "- The retailer receives maximum order and revenue from the United Kingdom"
      ],
      "metadata": {
        "id": "qM6ef21QkKhq"
      }
    },
    {
      "cell_type": "code",
      "source": [
        "# Less than avg price\n",
        "print(session.sql('Select Country, max(UnitPrice),Description from tb group by Country, Description having max(UnitPrice) < (select avg(UnitPrice) from tb)').show(5))\n",
        "\n",
        "# Greater than avg price\n",
        "print(session.sql('Select Country, max(UnitPrice),Description from tb group by Country, Description having max(UnitPrice) > (select avg(UnitPrice) from tb)').show(5))\n"
      ],
      "metadata": {
        "colab": {
          "base_uri": "https://localhost:8080/"
        },
        "id": "sx-Rdhz4kJcx",
        "outputId": "093ad233-2cbd-415f-b85b-c6ee13594fc4"
      },
      "execution_count": 54,
      "outputs": [
        {
          "output_type": "stream",
          "name": "stdout",
          "text": [
            "+--------------+--------------+--------------------+\n",
            "|       Country|max(UnitPrice)|         Description|\n",
            "+--------------+--------------+--------------------+\n",
            "|          EIRE|          1.65|PAINT YOUR OWN CA...|\n",
            "|        France|          0.39|PACK OF 12 SPACEB...|\n",
            "|United Kingdom|          0.85|PAPER POCKET TRAV...|\n",
            "|       Germany|           2.1|HAND WARMER BABUS...|\n",
            "|United Kingdom|           2.1|SET/6 IVORY BIRD ...|\n",
            "+--------------+--------------+--------------------+\n",
            "only showing top 5 rows\n",
            "\n",
            "None\n",
            "+--------------+--------------+--------------------+\n",
            "|       Country|max(UnitPrice)|         Description|\n",
            "+--------------+--------------+--------------------+\n",
            "|United Kingdom|         16.98|IVORY DINER WALL ...|\n",
            "|United Kingdom|          7.62|VINTAGE SEASIDE J...|\n",
            "|United Kingdom|          8.29|PINK DIAMANTE PEN...|\n",
            "|United Kingdom|          5.09|ANT COPPER PINK B...|\n",
            "|United Kingdom|          7.64|WHITE  ROSEBUD PE...|\n",
            "+--------------+--------------+--------------------+\n",
            "only showing top 5 rows\n",
            "\n",
            "None\n"
          ]
        }
      ]
    },
    {
      "cell_type": "code",
      "source": [
        "# Sum of orders received and cancelled in the mornings\n",
        "\n",
        "# Not Cancelled\n",
        "print((session.sql(\"Select  Sum(Quantity) TotalQuantity_NotCancelled from tb where IsCancelled==0 and (Time between '08:00' and '11:59')\").show()))\n",
        "\n",
        "# Is Cancelled\n",
        "print((session.sql(\"Select  abs(Sum(Quantity)) TotalQuantity_Cancelled from tb where IsCancelled==1 and (Time between '08:00' and '11:59')\").show()))"
      ],
      "metadata": {
        "id": "Gx_U8FBf1XIU",
        "colab": {
          "base_uri": "https://localhost:8080/"
        },
        "outputId": "e13172cb-cbd4-4e10-8277-f23ad535d32d"
      },
      "execution_count": 62,
      "outputs": [
        {
          "output_type": "stream",
          "name": "stdout",
          "text": [
            "+--------------------------+\n",
            "|TotalQuantity_NotCancelled|\n",
            "+--------------------------+\n",
            "|                   2000299|\n",
            "+--------------------------+\n",
            "\n",
            "None\n",
            "+-----------------------+\n",
            "|TotalQuantity_Cancelled|\n",
            "+-----------------------+\n",
            "|                 113906|\n",
            "+-----------------------+\n",
            "\n",
            "None\n"
          ]
        }
      ]
    },
    {
      "cell_type": "code",
      "source": [
        "# Sum of orders received and cancelled in the nights\n",
        "\n",
        "# Not Cancelled\n",
        "print((session.sql(\"Select  Sum(Quantity) TotalQuantity_NotCancelled from tb where IsCancelled==0 and (Time between '18:00' and '23:59')\").show()))\n",
        "\n",
        "# Is Cancelled\n",
        "print((session.sql(\"Select  abs(Sum(Quantity)) TotalQuantity_Cancelled from tb where IsCancelled==1 and (Time between '18:00' and '23:59')\").show()))"
      ],
      "metadata": {
        "colab": {
          "base_uri": "https://localhost:8080/"
        },
        "id": "bDoxZu_QRTQj",
        "outputId": "10d387d8-9fac-44e3-d6dd-7eb8c2a130f7"
      },
      "execution_count": 63,
      "outputs": [
        {
          "output_type": "stream",
          "name": "stdout",
          "text": [
            "+--------------------------+\n",
            "|TotalQuantity_NotCancelled|\n",
            "+--------------------------+\n",
            "|                     99997|\n",
            "+--------------------------+\n",
            "\n",
            "None\n",
            "+-----------------------+\n",
            "|TotalQuantity_Cancelled|\n",
            "+-----------------------+\n",
            "|                   4085|\n",
            "+-----------------------+\n",
            "\n",
            "None\n"
          ]
        }
      ]
    },
    {
      "cell_type": "markdown",
      "source": [
        "**The total quntities purchased in the mornings are more compared to those in the nights. The retailer can give more offers in the night to increase the sales.**"
      ],
      "metadata": {
        "id": "4taBvwvgR3CL"
      }
    },
    {
      "cell_type": "markdown",
      "source": [
        "# Conclusion\n",
        "\n",
        "**The retailer has to focus on its sales coming from top 5 countries and increase its revenue and reduce the number of cancellations. The sales received by the retailer in the night time are low comapred day time, thus offering dsicounts and offers to customers in the night time could increase sales.**\n",
        "**The retailer must also identify reasons for cancellations and try to convert most of orders as sales (revenue).**"
      ],
      "metadata": {
        "id": "AtkGI5DYxvmE"
      }
    },
    {
      "cell_type": "code",
      "source": [],
      "metadata": {
        "id": "HS0iPUv_Am4j"
      },
      "execution_count": null,
      "outputs": []
    }
  ]
}